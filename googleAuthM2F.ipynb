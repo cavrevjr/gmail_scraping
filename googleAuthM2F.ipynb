{
 "cells": [
  {
   "cell_type": "code",
   "execution_count": null,
   "id": "8631ddf7",
   "metadata": {},
   "outputs": [],
   "source": [
    "from pyotp import *\n",
    "from selenium import webdriver\n",
    "from selenium.webdriver.support.ui import WebDriverWait\n",
    "from selenium.webdriver.support import expected_conditions as EC\n",
    "from selenium.webdriver.common.by import By\n",
    "\n",
    "driver = webdriver.Firefox()\n",
    "driver.get(\"https://sellercentral.amazon.de/listing/download?ref=ag_dnldinv_apvu_newapvu\")\n",
    "wait = WebDriverWait(driver,10)\n",
    "# enter the email\n",
    "email = wait.until(EC.presence_of_element_located((By.XPATH, \"//input[@name='email']\")))\n",
    "email.send_keys(\"email goes here\")\n",
    "\n",
    "# enter password\n",
    "driver.find_element_by_xpath(\"//input[@name='password']\").send_keys(\"password goes here\")\n",
    "\n",
    "# click on signin button\n",
    "driver.find_element_by_xpath(\"//input[@id='signInSubmit']\").click()\n",
    "\n",
    "#wait for the 2FA feild to display\n",
    "authField = wait.until(EC.presence_of_element_located((By.XPATH, \"xpath goes here\")))\n",
    "# get the token from google authenticator\n",
    "totp = TOTP(\"secret goes here\")\n",
    "token = totp.now()\n",
    "print (token)\n",
    "# enter the token in the UI\n",
    "authField.send_keys(token)\n",
    "# click on the button to complete 2FA\n",
    "driver.find_element_by_xpath(\"xpath of the button goes here\").click()\n",
    "# now open new tab\n",
    "driver.execute_script(\"\"\"window.open(\"https://sellercentral.amazon.de/listing/download?ref=ag_dnldinv_apvu_newapvu\")\"\"\")\n",
    "# continue with your logic from here"
   ]
  }
 ],
 "metadata": {
  "kernelspec": {
   "display_name": "Python 3",
   "language": "python",
   "name": "python3"
  },
  "language_info": {
   "codemirror_mode": {
    "name": "ipython",
    "version": 3
   },
   "file_extension": ".py",
   "mimetype": "text/x-python",
   "name": "python",
   "nbconvert_exporter": "python",
   "pygments_lexer": "ipython3",
   "version": "3.8.8"
  }
 },
 "nbformat": 4,
 "nbformat_minor": 5
}
